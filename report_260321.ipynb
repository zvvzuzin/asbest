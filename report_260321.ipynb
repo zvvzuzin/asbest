{
 "cells": [
  {
   "cell_type": "code",
   "execution_count": 1,
   "metadata": {},
   "outputs": [],
   "source": [
    "import numpy as np\n",
    "from datetime import datetime\n",
    "import cv2\n",
    "import os\n",
    "from PIL import Image\n",
    "import torch\n",
    "import torchvision\n",
    "from torchvision import datasets, transforms, models\n",
    "from dataset import Asbest_segmentation\n",
    "from tqdm import tqdm\n",
    "import matplotlib.pyplot as plt\n",
    "import rawpy\n",
    "import segmentation_models_pytorch as smp\n",
    "from utils import parse_anno_file, create_mask_file, big_image_predict, get_time, true_results\n",
    "from apex import amp\n",
    "\n",
    "# os.environ['CUDA_VISIBLE_DEVICES'] = '0'\n",
    "\n",
    "device = torch.device(\"cuda:\" + str(torch.cuda.device_count() - 1) if torch.cuda.is_available() else \"cpu\")\n",
    "\n",
    "model_asbest = smp.Unet(encoder_name='efficientnet-b3', in_channels=1, classes=2, activation='sigmoid').to(device)\n",
    "model_asbest.load_state_dict(torch.load('asbest_segmentation_b3_v2.pth'))\n",
    "model_asbest.eval();"
   ]
  },
  {
   "cell_type": "code",
   "execution_count": 2,
   "metadata": {},
   "outputs": [],
   "source": [
    "def calculate_info(img_pathes, model):\n",
    "    results = []\n",
    "    for obj in img_pathes:\n",
    "        img = cv2.imread(obj, cv2.IMREAD_UNCHANGED)\n",
    "        img, st, asb = big_image_predict(model, \n",
    "                                         img,\n",
    "                                         crop_size=(1024, 1024),\n",
    "                                         inp_size=(1024, 1024),\n",
    "                                         device=device\n",
    "                                        )\n",
    "        results.append(100 * len(np.where(asb > 0.5)[0]) / img.shape[0] / img.shape[1])\n",
    "    return results"
   ]
  },
  {
   "cell_type": "code",
   "execution_count": 3,
   "metadata": {},
   "outputs": [],
   "source": [
    "dist_norm = lambda x : np.exp(- x ** 2 / 2) / (2 * np.pi) ** (1/2) \n",
    "\n",
    "def pz_approx(a, h, kernel, nums):\n",
    "    t = np.linspace(min(a), max(a), nums)\n",
    "    f = np.zeros(t.shape)\n",
    "    for i in range(len(t)):\n",
    "        for j in range(len(a)):\n",
    "            f[i] += 1 / (len(a) * h) * np.sum(kernel((t[i] - a[j]) / h))\n",
    "    return f\n",
    "\n",
    "def get_quartiles(x, a):\n",
    "    y = np.cumsum(a) / np.sum(a)\n",
    "    indexes = np.argsort(abs(y - 0.05))[:2]\n",
    "    q5 = x[indexes][0]\n",
    "    indexes = np.argsort(abs(y - 0.5))[:2]\n",
    "    q50 = x[indexes][0]\n",
    "    indexes = np.argsort(abs(y - 0.95))[:2]\n",
    "    q95 = x[indexes][0]\n",
    "    return q5, q50, q95\n",
    "\n",
    "def get_h(dist, h=0.01):\n",
    "    direction = 1e-4\n",
    "    a = np.array(dist)\n",
    "    f = -np.Inf\n",
    "    flag = True\n",
    "    while abs(direction) >= 1e-5: \n",
    "        l = []\n",
    "        h += direction\n",
    "        if h <= 0:\n",
    "            print('!')\n",
    "            break \n",
    "        for i in range(len(a)):\n",
    "            l.append(np.log(np.sum([dist_norm((a[i] - a[j]) / h) for j in range(len(a)) if i != j]) / (len(a) - 1) / h))\n",
    "        r = np.sum(l) / len(a)              \n",
    "        if r < f:\n",
    "            h -= direction\n",
    "            if flag:\n",
    "                direction = -direction\n",
    "                flag = False\n",
    "            else:\n",
    "                direction = direction * 1e-1\n",
    "        else:\n",
    "            f = r\n",
    "    return h\n",
    "\n",
    "def plot_dist_pz(dist, h, num_points = 200):\n",
    "    a = np.array(dist)\n",
    "    hist, x, *_ = np.histogram(a, bins=10);\n",
    "    hist = hist / sum(hist) / (x[1] - x[0])\n",
    "    plt.bar([(x[i] + x[i+1]) / 2 for i in range(len(x) - 1)], hist, width=(x[1] - x[0]))\n",
    "    t = np.linspace(np.min(a), np.max(a), num_points)\n",
    "    f = pz_approx(a, h, dist_norm, num_points)\n",
    "    q5, q50, q95 = get_quartiles(t, f)\n",
    "    plt.plot(t, f, 'r')\n",
    "    plt.xlabel('Содержание асбеста, %')\n",
    "    plt.vlines(np.array([q5, q50, q95]), 0, max(hist))\n",
    "    print('Квартиль на уровне доверительной вероятности 0.05 = ', q5)\n",
    "    print('Квартиль на уровне доверительной вероятности 0.50 = ', q50)\n",
    "    print('Квартиль на уровне доверительной вероятности 0.95 = ', q95)\n",
    "    return q5, q50, q95"
   ]
  },
  {
   "cell_type": "code",
   "execution_count": 4,
   "metadata": {},
   "outputs": [],
   "source": [
    "path = 'asbestos/stones/230321/'\n",
    "\n",
    "data = {\n",
    "    '23-03-21' : \n",
    "    { 1 : \n",
    "     { \n",
    "         'content' : 0.025,\n",
    "         'images' : {},\n",
    "     },\n",
    "     2 : \n",
    "     { \n",
    "         'content' : 0.035,\n",
    "         'images' : {},\n",
    "     },\n",
    "     3 : \n",
    "     { \n",
    "         'content' : 0.025,\n",
    "         'images' : {},\n",
    "     }\n",
    "    },\n",
    "}"
   ]
  },
  {
   "cell_type": "code",
   "execution_count": 5,
   "metadata": {},
   "outputs": [],
   "source": [
    "for pit in os.listdir(path):\n",
    "    for i, case in enumerate(os.listdir(os.path.join(path, pit))):\n",
    "        data['23-03-21'][int(pit)]['images'][i] = [os.path.join(path, pit, case, file) for file in os.listdir(os.path.join(path, pit, case)) if file.endswith('detailed.bmp')]"
   ]
  },
  {
   "cell_type": "markdown",
   "metadata": {},
   "source": [
    "## Забой № 1 (съемка 1) от 23.03.21. Содержание 2.5%"
   ]
  },
  {
   "cell_type": "code",
   "execution_count": 6,
   "metadata": {},
   "outputs": [],
   "source": [
    "res_230321_1_1 = calculate_info(data['23-03-21'][1]['images'][0], model_asbest)"
   ]
  },
  {
   "cell_type": "code",
   "execution_count": 7,
   "metadata": {},
   "outputs": [
    {
     "name": "stdout",
     "output_type": "stream",
     "text": [
      "0.15307999999999944\n"
     ]
    }
   ],
   "source": [
    "h = get_h(res_230321_1_1)\n",
    "print(h)"
   ]
  },
  {
   "cell_type": "code",
   "execution_count": 8,
   "metadata": {},
   "outputs": [
    {
     "name": "stdout",
     "output_type": "stream",
     "text": [
      "Квартиль на уровне доверительной вероятности 0.05 =  0.2759664509371704\n",
      "Квартиль на уровне доверительной вероятности 0.50 =  0.6896469047106676\n",
      "Квартиль на уровне доверительной вероятности 0.95 =  1.5592201034590394\n",
      "Среднее:  0.7538153200733418\n"
     ]
    },
    {
     "data": {
      "image/png": "[encoded data removed]",
      "text/plain": [
       "<Figure size 432x288 with 1 Axes>"
      ]
     },
     "metadata": {
      "needs_background": "light"
     },
     "output_type": "display_data"
    }
   ],
   "source": [
    "_, q50, _ = plot_dist_pz(res_230321_1_1, h)\n",
    "# q50s['02-02-21'][1] = q50\n",
    "print('Среднее: ', np.mean(res_230321_1_1))\n",
    "plt.title('Забой № 1 (1) от 23.03.21. Содержание асбеста 2.5%')\n",
    "plt.savefig('graphics/pit_1_1_230321.png',bbox_inches='tight', pad_inches=0)"
   ]
  },
  {
   "cell_type": "markdown",
   "metadata": {},
   "source": [
    "## Забой № 1 (съемка 2) от 23.03.21. Содержание 2.5%"
   ]
  },
  {
   "cell_type": "code",
   "execution_count": 9,
   "metadata": {},
   "outputs": [],
   "source": [
    "res_230321_1_2 = calculate_info(data['23-03-21'][1]['images'][1], model_asbest)"
   ]
  },
  {
   "cell_type": "code",
   "execution_count": 10,
   "metadata": {},
   "outputs": [
    {
     "name": "stdout",
     "output_type": "stream",
     "text": [
      "0.16507999999999812\n"
     ]
    }
   ],
   "source": [
    "h = get_h(res_230321_1_2)\n",
    "print(h)"
   ]
  },
  {
   "cell_type": "code",
   "execution_count": 11,
   "metadata": {},
   "outputs": [
    {
     "name": "stdout",
     "output_type": "stream",
     "text": [
      "Квартиль на уровне доверительной вероятности 0.05 =  0.18161499394517922\n",
      "Квартиль на уровне доверительной вероятности 0.50 =  0.6531733911588711\n",
      "Квартиль на уровне доверительной вероятности 0.95 =  1.1247317883725632\n",
      "Среднее:  0.6709553282937886\n"
     ]
    },
    {
     "data": {
      "image/png": "[encoded data removed]",
      "text/plain": [
       "<Figure size 432x288 with 1 Axes>"
      ]
     },
     "metadata": {
      "needs_background": "light"
     },
     "output_type": "display_data"
    }
   ],
   "source": [
    "_, q50, _ = plot_dist_pz(res_230321_1_2, h)\n",
    "# q50s['02-02-21'][2] = q50\n",
    "print('Среднее: ', np.mean(res_230321_1_2))\n",
    "plt.title('Забой № 1 (1) от 23.03.21. Содержание асбеста 2.5%')\n",
    "plt.savefig('graphics/pit_1_2_230321.png',bbox_inches='tight', pad_inches=0)"
   ]
  },
  {
   "cell_type": "markdown",
   "metadata": {},
   "source": [
    "## Забой № 2 (съемка 1) от 23.03.21. Содержание 3.5%"
   ]
  },
  {
   "cell_type": "code",
   "execution_count": 12,
   "metadata": {},
   "outputs": [],
   "source": [
    "res_230321_2_1 = calculate_info(data['23-03-21'][2]['images'][0], model_asbest)"
   ]
  },
  {
   "cell_type": "code",
   "execution_count": 13,
   "metadata": {},
   "outputs": [
    {
     "name": "stdout",
     "output_type": "stream",
     "text": [
      "0.1654999999999981\n"
     ]
    }
   ],
   "source": [
    "h = get_h(res_230321_2_1)\n",
    "print(h)"
   ]
  },
  {
   "cell_type": "code",
   "execution_count": 14,
   "metadata": {},
   "outputs": [
    {
     "name": "stdout",
     "output_type": "stream",
     "text": [
      "Квартиль на уровне доверительной вероятности 0.05 =  0.28104551954167056\n",
      "Квартиль на уровне доверительной вероятности 0.50 =  0.6907279604281051\n",
      "Квартиль на уровне доверительной вероятности 0.95 =  1.2729082711614594\n",
      "Среднее:  0.7038290033895501\n"
     ]
    },
    {
     "data": {
      "image/png": "[encoded data removed]",
      "text/plain": [
       "<Figure size 432x288 with 1 Axes>"
      ]
     },
     "metadata": {
      "needs_background": "light"
     },
     "output_type": "display_data"
    }
   ],
   "source": [
    "_, q50, _ = plot_dist_pz(res_230321_2_1, h)\n",
    "# q50s['16-12-20'][1] = q50\n",
    "print('Среднее: ', np.mean(res_230321_2_1))\n",
    "plt.title('Забой № 2 (1) от 23.03.21. Содержание асбеста 3.5%')\n",
    "plt.savefig('graphics/pit_2_1_230321.png',bbox_inches='tight', pad_inches=0)"
   ]
  },
  {
   "cell_type": "markdown",
   "metadata": {},
   "source": [
    "## Забой № 2 (съемка 2) от 23.03.21. Содержание 3.5%"
   ]
  },
  {
   "cell_type": "code",
   "execution_count": 15,
   "metadata": {},
   "outputs": [],
   "source": [
    "res_230321_2_2 = calculate_info(data['23-03-21'][2]['images'][1], model_asbest)"
   ]
  },
  {
   "cell_type": "code",
   "execution_count": null,
   "metadata": {},
   "outputs": [],
   "source": [
    "h = get_h(res_230321_2_2)\n",
    "print(h)"
   ]
  },
  {
   "cell_type": "code",
   "execution_count": null,
   "metadata": {},
   "outputs": [],
   "source": [
    "_, q50, _ = plot_dist_pz(res_230321_2_2, h)\n",
    "# q50s['16-12-20'][2] = q50\n",
    "print('Среднее: ', np.mean(res_230321_2_2))\n",
    "plt.title('Забой № 2 (2) от 23.03.21. Содержание асбеста 3.5%')\n",
    "plt.savefig('graphics/pit_2_2_230321.png',bbox_inches='tight', pad_inches=0)"
   ]
  },
  {
   "cell_type": "markdown",
   "metadata": {},
   "source": [
    "## Забой № 3 от 23.03.21. Содержание 2.5%"
   ]
  },
  {
   "cell_type": "code",
   "execution_count": 18,
   "metadata": {},
   "outputs": [],
   "source": [
    "res_230321_3_1 = calculate_info(data['23-03-21'][3]['images'][0], model_asbest)"
   ]
  },
  {
   "cell_type": "code",
   "execution_count": 19,
   "metadata": {},
   "outputs": [
    {
     "name": "stderr",
     "output_type": "stream",
     "text": [
      "/home/vasily/.virtualenvs/cnn_course/lib/python3.6/site-packages/ipykernel_launcher.py:33: RuntimeWarning: divide by zero encountered in log\n"
     ]
    },
    {
     "name": "stdout",
     "output_type": "stream",
     "text": [
      "0.31488999999998163\n"
     ]
    }
   ],
   "source": [
    "h = get_h(res_230321_3_1)\n",
    "print(h)"
   ]
  },
  {
   "cell_type": "code",
   "execution_count": 20,
   "metadata": {},
   "outputs": [
    {
     "name": "stdout",
     "output_type": "stream",
     "text": [
      "Квартиль на уровне доверительной вероятности 0.05 =  0.26891260971257713\n",
      "Квартиль на уровне доверительной вероятности 0.50 =  1.0337358639564043\n",
      "Квартиль на уровне доверительной вероятности 0.95 =  2.167313187210648\n",
      "Среднее:  1.074567060982379\n"
     ]
    },
    {
     "data": {
      "image/png": "[encoded data removed]",
      "text/plain": [
       "<Figure size 432x288 with 1 Axes>"
      ]
     },
     "metadata": {
      "needs_background": "light"
     },
     "output_type": "display_data"
    }
   ],
   "source": [
    "_, q50, _ = plot_dist_pz(res_230321_3_1, h)\n",
    "# q50s['16-12-20'][1] = q50\n",
    "print('Среднее: ', np.mean(res_230321_3_1))\n",
    "plt.title('Забой № 3 от 23.03.21. Содержание асбеста 2.5%')\n",
    "plt.savefig('graphics/pit_3_1_230321.png',bbox_inches='tight', pad_inches=0)"
   ]
  },
  {
   "cell_type": "markdown",
   "metadata": {},
   "source": [
    " ## График зависимостей"
   ]
  },
  {
   "cell_type": "code",
   "execution_count": 21,
   "metadata": {},
   "outputs": [
    {
     "ename": "NameError",
     "evalue": "name 'q50s' is not defined",
     "output_type": "error",
     "traceback": [
      "\u001b[0;31m---------------------------------------------------------------------------\u001b[0m",
      "\u001b[0;31mNameError\u001b[0m                                 Traceback (most recent call last)",
      "\u001b[0;32m<ipython-input-21-bcb3f8dda057>\u001b[0m in \u001b[0;36m<module>\u001b[0;34m\u001b[0m\n\u001b[0;32m----> 1\u001b[0;31m \u001b[0mq50s\u001b[0m\u001b[0;34m\u001b[0m\u001b[0;34m\u001b[0m\u001b[0m\n\u001b[0m",
      "\u001b[0;31mNameError\u001b[0m: name 'q50s' is not defined"
     ]
    }
   ],
   "source": [
    "q50s"
   ]
  },
  {
   "cell_type": "code",
   "execution_count": null,
   "metadata": {},
   "outputs": [],
   "source": [
    "content = []\n",
    "lst_50 = []\n",
    "for date in q50s.keys():\n",
    "    for pit in q50s[date].keys():\n",
    "        if date == '16-12-20' and (pit == 2 or pit == 3):\n",
    "            continue\n",
    "        lst_50.append(q50s[date][pit])\n",
    "        content.append(data[date][pit]['content'])\n",
    "\n",
    "t = [min(lst_50), max(lst_50)]\n",
    "p = np.polyfit(lst_50, content, 1)\n",
    "y = np.polyval(p, t)\n",
    "print(p)\n",
    "        \n",
    "        \n",
    "plt.scatter(lst_50, content)\n",
    "plt.plot(t, y)\n",
    "\n",
    "plt.xlabel('Медианы распределений')\n",
    "plt.ylabel('Содержание асбеста')\n",
    "plt.savefig('graphics/content_asbest.png', bbox_inches='tight', pad_inches=0)"
   ]
  },
  {
   "cell_type": "code",
   "execution_count": null,
   "metadata": {},
   "outputs": [],
   "source": []
  }
 ],
 "metadata": {
  "kernelspec": {
   "display_name": "Python 3 (ipykernel)",
   "language": "python",
   "name": "python3"
  },
  "language_info": {
   "codemirror_mode": {
    "name": "ipython",
    "version": 3
   },
   "file_extension": ".py",
   "mimetype": "text/x-python",
   "name": "python",
   "nbconvert_exporter": "python",
   "pygments_lexer": "ipython3",
   "version": "3.8.10"
  }
 },
 "nbformat": 4,
 "nbformat_minor": 4
}
