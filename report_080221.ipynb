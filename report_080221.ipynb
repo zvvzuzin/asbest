{
 "cells": [
  {
   "cell_type": "code",
   "execution_count": 1,
   "metadata": {},
   "outputs": [],
   "source": [
    "import numpy as np\n",
    "from datetime import datetime\n",
    "import cv2\n",
    "import os\n",
    "from PIL import Image\n",
    "import torch\n",
    "import torchvision\n",
    "from torchvision import datasets, transforms, models\n",
    "from dataset import Asbest_segmentation\n",
    "from tqdm import tqdm\n",
    "import matplotlib.pyplot as plt\n",
    "import rawpy\n",
    "import segmentation_models_pytorch as smp\n",
    "from utils import parse_anno_file, create_mask_file, big_image_predict, get_time, true_results\n",
    "from apex import amp\n",
    "\n",
    "os.environ['CUDA_VISIBLE_DEVICES'] = '0'\n",
    "\n",
    "device = torch.device(\"cuda:\" + str(torch.cuda.device_count() - 1) if torch.cuda.is_available() else \"cpu\")\n",
    "\n",
    "model_asbest = smp.Unet(encoder_name='efficientnet-b3', in_channels=1, classes=2, activation='sigmoid').to(device)\n",
    "model_asbest.load_state_dict(torch.load('asbest_segmentation_b3_v1.3.pth'))\n",
    "model_asbest.eval();"
   ]
  },
  {
   "cell_type": "code",
   "execution_count": 2,
   "metadata": {},
   "outputs": [],
   "source": [
    "def calculate_info(img_pathes, model):\n",
    "    results = []\n",
    "    for obj in img_pathes:\n",
    "        img = cv2.imread(obj, cv2.IMREAD_UNCHANGED)\n",
    "        img, st, asb = big_image_predict(model, \n",
    "                                         img,\n",
    "                                         crop_size=(1024, 1024),\n",
    "                                         inp_size=(1024, 1024),\n",
    "                                         device=device\n",
    "                                        )\n",
    "        results.append(100*len(np.where(asb > 0.5)[0]) / img.shape[0] / img.shape[1])\n",
    "    return results"
   ]
  },
  {
   "cell_type": "code",
   "execution_count": 3,
   "metadata": {},
   "outputs": [],
   "source": [
    "dist_norm = lambda x : np.exp(- x ** 2 / 2) / (2 * np.pi) ** (1/2) \n",
    "\n",
    "def pz_approx(a, h, kernel, nums):\n",
    "    t = np.linspace(min(a), max(a), nums)\n",
    "    f = np.zeros(t.shape)\n",
    "    for i in range(len(t)):\n",
    "        for j in range(len(a)):\n",
    "            f[i] += 1 / (len(a) * h) * np.sum(kernel((t[i] - a[j]) / h))\n",
    "    return f\n",
    "\n",
    "def get_quartiles(x, a):\n",
    "    y = np.cumsum(a) / np.sum(a)\n",
    "    indexes = np.argsort(abs(y - 0.05))[:2]\n",
    "    q5 = x[indexes][0]\n",
    "    indexes = np.argsort(abs(y - 0.5))[:2]\n",
    "    q50 = x[indexes][0]\n",
    "    indexes = np.argsort(abs(y - 0.95))[:2]\n",
    "    q95 = x[indexes][0]\n",
    "    return q5, q50, q95\n",
    "\n",
    "def get_h(dist, h=0.01):\n",
    "    direction = 1e-4\n",
    "    a = np.array(dist)\n",
    "    f = -np.Inf\n",
    "    flag = True\n",
    "    while abs(direction) >= 1e-5: \n",
    "        l = []\n",
    "        h += direction\n",
    "        if h <= 0:\n",
    "            print('!')\n",
    "            break \n",
    "        for i in range(len(a)):\n",
    "            l.append(np.log(np.sum([dist_norm((a[i] - a[j]) / h) for j in range(len(a)) if i != j]) / (len(a) - 1) / h))\n",
    "        r = np.sum(l) / len(a)              \n",
    "        if r < f:\n",
    "            h -= direction\n",
    "            if flag:\n",
    "                direction = -direction\n",
    "                flag = False\n",
    "            else:\n",
    "                direction = direction * 1e-1\n",
    "        else:\n",
    "            f = r\n",
    "    return h\n",
    "\n",
    "def plot_dist_pz(dist, h, num_points = 200):\n",
    "    a = np.array(dist)\n",
    "    hist, x, *_ = np.histogram(a, bins=10);\n",
    "    hist = hist / sum(hist) / (x[1] - x[0])\n",
    "    plt.bar([(x[i] + x[i+1]) / 2 for i in range(len(x) - 1)], hist, width=(x[1] - x[0]))\n",
    "    t = np.linspace(np.min(a), np.max(a), num_points)\n",
    "    f = pz_approx(a, h, dist_norm, num_points)\n",
    "    q5, q50, q95 = get_quartiles(t, f)\n",
    "    plt.plot(t, f, 'r')\n",
    "    plt.xlabel('Удельное содержание асбеста')\n",
    "    plt.vlines(np.array([q5, q50, q95]), 0, max(hist))\n",
    "    print('Квантиль на уровне доверительной вероятности 0.05 = ', q5)\n",
    "    print('Квантиль на уровне доверительной вероятности 0.50 = ', q50)\n",
    "    print('Квантиль на уровне доверительной вероятности 0.95 = ', q95)\n",
    "    return q5, q50, q95"
   ]
  },
  {
   "cell_type": "code",
   "execution_count": 4,
   "metadata": {},
   "outputs": [],
   "source": [
    "path = 'asbestos/stones/020221/'\n",
    "\n",
    "data = {\n",
    "    '02-02-21' : \n",
    "    { 1 : \n",
    "     { 'content' : 0.030,\n",
    "         'images' : [\n",
    "        'asbestos/stones/020221/ManualDetailedImage_12_04_45f_300.bmp', \n",
    "        'asbestos/stones/020221/ManualDetailedImage_12_05_01_300.bmp', \n",
    "        'asbestos/stones/020221/ManualDetailedImage_12_06_30f_300.bmp', \n",
    "        'asbestos/stones/020221/ManualDetailedImage_12_07_14_300.bmp', \n",
    "        'asbestos/stones/020221/ManualDetailedImage_12_08_07f_300.bmp', \n",
    "        'asbestos/stones/020221/ManualDetailedImage_12_08_29_300.bmp', \n",
    "        'asbestos/stones/020221/ManualDetailedImage_12_09_38f_300.bmp', \n",
    "        'asbestos/stones/020221/ManualDetailedImage_12_09_52_300.bmp', \n",
    "        'asbestos/stones/020221/ManualDetailedImage_12_11_17f_300.bmp', \n",
    "        'asbestos/stones/020221/ManualDetailedImage_12_11_32_300.bmp', \n",
    "        'asbestos/stones/020221/ManualDetailedImage_12_13_48f_300.bmp', \n",
    "        'asbestos/stones/020221/ManualDetailedImage_12_14_01_300.bmp', \n",
    "        'asbestos/stones/020221/ManualDetailedImage_12_15_13f_300.bmp', \n",
    "        'asbestos/stones/020221/ManualDetailedImage_12_15_45_300.bmp', \n",
    "        'asbestos/stones/020221/ManualDetailedImage_12_17_26f_300.bmp', \n",
    "        'asbestos/stones/020221/ManualDetailedImage_12_17_46_300.bmp', \n",
    "        'asbestos/stones/020221/ManualDetailedImage_12_19_00f_300.bmp', \n",
    "        'asbestos/stones/020221/ManualDetailedImage_12_19_17_300.bmp', \n",
    "        'asbestos/stones/020221/ManualDetailedImage_12_23_52f_300.bmp', \n",
    "        'asbestos/stones/020221/ManualDetailedImage_12_24_11_300.bmp', \n",
    "        'asbestos/stones/020221/ManualDetailedImage_12_25_15f_300.bmp', \n",
    "        'asbestos/stones/020221/ManualDetailedImage_12_25_24_300.bmp', \n",
    "        'asbestos/stones/020221/ManualDetailedImage_12_27_03f_300.bmp', \n",
    "        'asbestos/stones/020221/ManualDetailedImage_12_27_48_300.bmp', \n",
    "        'asbestos/stones/020221/ManualDetailedImage_12_31_20f_300.bmp', \n",
    "        'asbestos/stones/020221/ManualDetailedImage_12_32_00_300.bmp'],\n",
    "     },\n",
    "     2 : \n",
    "     { 'content' : 0.015,\n",
    "         'images' :[\n",
    "         'asbestos/stones/020221/ManualDetailedImage_12_47_38f_150.bmp', \n",
    "         'asbestos/stones/020221/ManualDetailedImage_12_49_13_150.bmp', \n",
    "         'asbestos/stones/020221/ManualDetailedImage_12_51_54f_150.bmp', \n",
    "         'asbestos/stones/020221/ManualDetailedImage_12_52_28_150.bmp', \n",
    "         'asbestos/stones/020221/ManualDetailedImage_12_55_14f_150.bmp', \n",
    "         'asbestos/stones/020221/ManualDetailedImage_12_55_48_150.bmp', \n",
    "         'asbestos/stones/020221/ManualDetailedImage_12_58_06f_150.bmp', \n",
    "         'asbestos/stones/020221/ManualDetailedImage_12_58_51_150.bmp'\n",
    "     ]\n",
    "     }\n",
    "    },\n",
    "    '16-12-20': \n",
    "     { 2: \n",
    "      { 'content' : 0.02,\n",
    "         'images' :\n",
    "      [\n",
    "         'asbestos/stones/161220/ManualDetailedImage_10_01_52.bmp', \n",
    "         'asbestos/stones/161220/ManualDetailedImage_10_03_00.bmp', \n",
    "         'asbestos/stones/161220/ManualDetailedImage_10_03_35.bmp', \n",
    "         'asbestos/stones/161220/ManualDetailedImage_10_04_15.bmp', \n",
    "         'asbestos/stones/161220/ManualDetailedImage_10_05_20.bmp', \n",
    "         'asbestos/stones/161220/ManualDetailedImage_10_05_58.bmp', \n",
    "         'asbestos/stones/161220/ManualDetailedImage_10_06_46.bmp', \n",
    "         'asbestos/stones/161220/ManualDetailedImage_10_07_31.bmp', \n",
    "         'asbestos/stones/161220/ManualDetailedImage_10_10_10.bmp',\n",
    "         'asbestos/stones/161220/ManualGeneralImage_10_01_26.bmp'\n",
    "      ]\n",
    "      },\n",
    "      3: { 'content' : 0.02,\n",
    "         'images' :\n",
    "      [\n",
    "         'asbestos/stones/161220/ManualDetailedImage_10_26_43.bmp', \n",
    "         'asbestos/stones/161220/ManualDetailedImage_10_27_18.bmp', \n",
    "         'asbestos/stones/161220/ManualDetailedImage_10_27_30.bmp', \n",
    "         'asbestos/stones/161220/ManualDetailedImage_10_27_58.bmp', \n",
    "         'asbestos/stones/161220/ManualDetailedImage_10_29_22.bmp',\n",
    "     ],\n",
    "         },\n",
    "      4: { 'content' : 0.04,\n",
    "         'images' :[\n",
    "          'asbestos/stones/161220/ManualDetailedImage_11_03_34.bmp', \n",
    "          'asbestos/stones/161220/ManualDetailedImage_11_04_07.bmp', \n",
    "          'asbestos/stones/161220/ManualDetailedImage_11_05_06.bmp', \n",
    "          'asbestos/stones/161220/ManualDetailedImage_11_05_43.bmp', \n",
    "          'asbestos/stones/161220/ManualDetailedImage_11_06_02.bmp', \n",
    "          'asbestos/stones/161220/ManualDetailedImage_11_06_30.bmp', \n",
    "          'asbestos/stones/161220/ManualDetailedImage_11_07_12.bmp', \n",
    "          'asbestos/stones/161220/ManualDetailedImage_11_07_55.bmp', \n",
    "          'asbestos/stones/161220/ManualDetailedImage_11_08_37.bmp', \n",
    "          'asbestos/stones/161220/ManualDetailedImage_11_09_00.bmp', \n",
    "          'asbestos/stones/161220/ManualDetailedImage_11_09_20.bmp', \n",
    "          'asbestos/stones/161220/ManualDetailedImage_11_09_58.bmp'\n",
    "      ],\n",
    "         },\n",
    "      1: \n",
    "      {'content' : 0.02,\n",
    "         'images' :[\n",
    "          'asbestos/stones/161220/ManualGeneralImage_09_27_13.bmp', \n",
    "          'asbestos/stones/161220/ManualGeneralImage_09_30_19.bmp', \n",
    "          'asbestos/stones/161220/ManualGeneralImage_09_31_25.bmp', \n",
    "          'asbestos/stones/161220/ManualGeneralImage_09_32_23.bmp', \n",
    "          'asbestos/stones/161220/ManualGeneralImage_09_35_25.bmp', \n",
    "          'asbestos/stones/161220/ManualGeneralImage_09_35_52.bmp', \n",
    "          'asbestos/stones/161220/ManualGeneralImage_09_36_12.bmp', \n",
    "          'asbestos/stones/161220/ManualGeneralImage_09_36_44.bmp']\n",
    "      }\n",
    "     }\n",
    "}"
   ]
  },
  {
   "cell_type": "code",
   "execution_count": 5,
   "metadata": {},
   "outputs": [
    {
     "name": "stdout",
     "output_type": "stream",
     "text": [
      "12\n",
      "0.04\n"
     ]
    }
   ],
   "source": [
    "n_pit = 4\n",
    "print(len(data['16-12-20'][n_pit]['images']))\n",
    "print(data['16-12-20'][n_pit]['content'])"
   ]
  },
  {
   "cell_type": "code",
   "execution_count": 8,
   "metadata": {},
   "outputs": [],
   "source": [
    "q50s = {'02-02-21' : {}, '16-12-20' : {}}"
   ]
  },
  {
   "cell_type": "markdown",
   "metadata": {},
   "source": [
    "## Забой № 1 от 02.02.21. Содержание 3%"
   ]
  },
  {
   "cell_type": "code",
   "execution_count": 5,
   "metadata": {},
   "outputs": [],
   "source": [
    "res_020221_1 = calculate_info(data['02-02-21'][1]['images'], model_asbest)"
   ]
  },
  {
   "cell_type": "code",
   "execution_count": 6,
   "metadata": {},
   "outputs": [
    {
     "name": "stderr",
     "output_type": "stream",
     "text": [
      "/home/vasily/.virtualenvs/cnn_course/lib/python3.6/site-packages/ipykernel_launcher.py:33: RuntimeWarning: divide by zero encountered in log\n"
     ]
    },
    {
     "name": "stdout",
     "output_type": "stream",
     "text": [
      "0.6950999999999398\n"
     ]
    }
   ],
   "source": [
    "h = get_h(res_020221_1)\n",
    "print(h)"
   ]
  },
  {
   "cell_type": "code",
   "execution_count": 9,
   "metadata": {},
   "outputs": [
    {
     "name": "stdout",
     "output_type": "stream",
     "text": [
      "Квантиль на уровне доверительной вероятности 0.05 =  0.5433000755913537\n",
      "Квантиль на уровне доверительной вероятности 0.50 =  1.8185673580031232\n",
      "Квантиль на уровне доверительной вероятности 0.95 =  3.8194177493733132\n",
      "Среднее:  1.856583815354567\n"
     ]
    },
    {
     "data": {
      "image/png": "[encoded data removed]",
      "text/plain": [
       "<Figure size 432x288 with 1 Axes>"
      ]
     },
     "metadata": {
      "needs_background": "light"
     },
     "output_type": "display_data"
    }
   ],
   "source": [
    "_, q50, _ = plot_dist_pz(res_020221_1, h)\n",
    "q50s['02-02-21'][1] = q50\n",
    "print('Среднее: ', np.mean(res_020221_1))\n",
    "plt.title('Забой № 1 от 02.02.21. Содержание асбеста 3%')\n",
    "plt.savefig('graphics/pit_1_020221.png',bbox_inches='tight', pad_inches=0)"
   ]
  },
  {
   "cell_type": "markdown",
   "metadata": {},
   "source": [
    "## Забой № 2 от 02.02.21. Содержание 1.3-1.5%"
   ]
  },
  {
   "cell_type": "code",
   "execution_count": 10,
   "metadata": {},
   "outputs": [],
   "source": [
    "res_020221_2 = calculate_info(data['02-02-21'][2]['images'], model_asbest)"
   ]
  },
  {
   "cell_type": "code",
   "execution_count": 11,
   "metadata": {},
   "outputs": [
    {
     "name": "stderr",
     "output_type": "stream",
     "text": [
      "/home/vasily/.virtualenvs/cnn_course/lib/python3.6/site-packages/ipykernel_launcher.py:33: RuntimeWarning: divide by zero encountered in log\n"
     ]
    },
    {
     "name": "stdout",
     "output_type": "stream",
     "text": [
      "0.5134699999999599\n"
     ]
    }
   ],
   "source": [
    "h = get_h(res_020221_2)\n",
    "print(h)"
   ]
  },
  {
   "cell_type": "code",
   "execution_count": 12,
   "metadata": {},
   "outputs": [
    {
     "name": "stdout",
     "output_type": "stream",
     "text": [
      "Квантиль на уровне доверительной вероятности 0.05 =  0.35175991099764836\n",
      "Квантиль на уровне доверительной вероятности 0.50 =  1.144321237414164\n",
      "Квантиль на уровне доверительной вероятности 0.95 =  1.817572256628193\n",
      "Среднее:  1.1721575701678242\n"
     ]
    },
    {
     "data": {
      "image/png": "[encoded data removed]",
      "text/plain": [
       "<Figure size 432x288 with 1 Axes>"
      ]
     },
     "metadata": {
      "needs_background": "light"
     },
     "output_type": "display_data"
    }
   ],
   "source": [
    "_, q50, _ = plot_dist_pz(res_020221_2, h)\n",
    "q50s['02-02-21'][2] = q50\n",
    "print('Среднее: ', np.mean(res_020221_2))\n",
    "plt.title('Забой № 2 от 02.02.21. Содержание асбеста 1.3-1.5%')\n",
    "plt.savefig('graphics/pit_2_020221.png',bbox_inches='tight', pad_inches=0)"
   ]
  },
  {
   "cell_type": "markdown",
   "metadata": {},
   "source": [
    "## Забой № 1 от 16.12.20. Содержание 2%"
   ]
  },
  {
   "cell_type": "code",
   "execution_count": 13,
   "metadata": {},
   "outputs": [],
   "source": [
    "res_161220_1 = calculate_info(data['16-12-20'][1]['images'], model_asbest)"
   ]
  },
  {
   "cell_type": "code",
   "execution_count": 14,
   "metadata": {},
   "outputs": [
    {
     "name": "stderr",
     "output_type": "stream",
     "text": [
      "/home/vasily/.virtualenvs/cnn_course/lib/python3.6/site-packages/ipykernel_launcher.py:33: RuntimeWarning: divide by zero encountered in log\n"
     ]
    },
    {
     "name": "stdout",
     "output_type": "stream",
     "text": [
      "0.24774999999998898\n"
     ]
    }
   ],
   "source": [
    "h = get_h(res_161220_1)\n",
    "print(h)"
   ]
  },
  {
   "cell_type": "code",
   "execution_count": 15,
   "metadata": {},
   "outputs": [
    {
     "name": "stdout",
     "output_type": "stream",
     "text": [
      "Квантиль на уровне доверительной вероятности 0.05 =  1.1098703961491\n",
      "Квантиль на уровне доверительной вероятности 0.50 =  1.4987373079893584\n",
      "Квантиль на уровне доверительной вероятности 0.95 =  1.815748377424352\n",
      "Среднее:  1.513283341019242\n"
     ]
    },
    {
     "data": {
      "image/png": "[encoded data removed]",
      "text/plain": [
       "<Figure size 432x288 with 1 Axes>"
      ]
     },
     "metadata": {
      "needs_background": "light"
     },
     "output_type": "display_data"
    }
   ],
   "source": [
    "_, q50, _ = plot_dist_pz(res_161220_1, h)\n",
    "q50s['16-12-20'][1] = q50\n",
    "print('Среднее: ', np.mean(res_161220_1))\n",
    "plt.title('Забой № 1 от 16.12.20. Содержание асбеста 2%')\n",
    "plt.savefig('graphics/pit_1_161220.png',bbox_inches='tight', pad_inches=0)"
   ]
  },
  {
   "cell_type": "markdown",
   "metadata": {},
   "source": [
    "## Забой № 2 от 16.12.20. Содержание 1.8-2%"
   ]
  },
  {
   "cell_type": "code",
   "execution_count": 16,
   "metadata": {},
   "outputs": [],
   "source": [
    "res_161220_2 = calculate_info(data['16-12-20'][2]['images'], model_asbest)"
   ]
  },
  {
   "cell_type": "code",
   "execution_count": 17,
   "metadata": {},
   "outputs": [
    {
     "name": "stderr",
     "output_type": "stream",
     "text": [
      "/home/vasily/.virtualenvs/cnn_course/lib/python3.6/site-packages/ipykernel_launcher.py:33: RuntimeWarning: divide by zero encountered in log\n"
     ]
    },
    {
     "name": "stdout",
     "output_type": "stream",
     "text": [
      "0.956399999999911\n"
     ]
    }
   ],
   "source": [
    "h = get_h(res_161220_2)\n",
    "print(h)"
   ]
  },
  {
   "cell_type": "code",
   "execution_count": 18,
   "metadata": {},
   "outputs": [
    {
     "name": "stdout",
     "output_type": "stream",
     "text": [
      "Квантиль на уровне доверительной вероятности 0.05 =  1.6989241197184806\n",
      "Квантиль на уровне доверительной вероятности 0.50 =  2.976302584670556\n",
      "Квантиль на уровне доверительной вероятности 0.95 =  4.656142757758216\n",
      "Среднее:  2.8381215790171685\n"
     ]
    },
    {
     "data": {
      "image/png": "[encoded data removed]",
      "text/plain": [
       "<Figure size 432x288 with 1 Axes>"
      ]
     },
     "metadata": {
      "needs_background": "light"
     },
     "output_type": "display_data"
    }
   ],
   "source": [
    "_, q50, _ = plot_dist_pz(res_161220_2, h)\n",
    "q50s['16-12-20'][2] = q50\n",
    "print('Среднее: ', np.mean(res_161220_2))\n",
    "plt.title('Забой № 2 от 16.12.20. Содержание асбеста 1.8-2%')\n",
    "plt.savefig('graphics/pit_2_161220.png',bbox_inches='tight', pad_inches=0)"
   ]
  },
  {
   "cell_type": "markdown",
   "metadata": {},
   "source": [
    "## Забой № 3 от 16.12.20. Содержание 1.8-2%"
   ]
  },
  {
   "cell_type": "code",
   "execution_count": 19,
   "metadata": {},
   "outputs": [],
   "source": [
    "res_161220_3 = calculate_info(data['16-12-20'][3]['images'], model_asbest)"
   ]
  },
  {
   "cell_type": "code",
   "execution_count": 20,
   "metadata": {},
   "outputs": [
    {
     "name": "stderr",
     "output_type": "stream",
     "text": [
      "/home/vasily/.virtualenvs/cnn_course/lib/python3.6/site-packages/ipykernel_launcher.py:33: RuntimeWarning: divide by zero encountered in log\n"
     ]
    },
    {
     "name": "stdout",
     "output_type": "stream",
     "text": [
      "1.4590599999998555\n"
     ]
    }
   ],
   "source": [
    "h = get_h(res_161220_3)\n",
    "print(h)"
   ]
  },
  {
   "cell_type": "code",
   "execution_count": 21,
   "metadata": {},
   "outputs": [
    {
     "name": "stdout",
     "output_type": "stream",
     "text": [
      "Квантиль на уровне доверительной вероятности 0.05 =  1.9632668551088777\n",
      "Квантиль на уровне доверительной вероятности 0.50 =  3.6483309317614308\n",
      "Квантиль на уровне доверительной вероятности 0.95 =  5.100354231855652\n",
      "Среднее:  3.7778388129340277\n"
     ]
    },
    {
     "data": {
      "image/png": "[encoded data removed]",
      "text/plain": [
       "<Figure size 432x288 with 1 Axes>"
      ]
     },
     "metadata": {
      "needs_background": "light"
     },
     "output_type": "display_data"
    }
   ],
   "source": [
    "_, q50, _ = plot_dist_pz(res_161220_3, h)\n",
    "q50s['16-12-20'][3] = q50\n",
    "print('Среднее: ', np.mean(res_161220_3))\n",
    "plt.title('Забой № 3 от 16.12.20. Содержание асбеста 1.8-2%')\n",
    "plt.savefig('graphics/pit_3_161220.png',bbox_inches='tight', pad_inches=0)"
   ]
  },
  {
   "cell_type": "markdown",
   "metadata": {},
   "source": [
    "## Забой № 4 от 16.12.20. Содержание 4%"
   ]
  },
  {
   "cell_type": "code",
   "execution_count": 22,
   "metadata": {},
   "outputs": [],
   "source": [
    "res_161220_4 = calculate_info(data['16-12-20'][4]['images'], model_asbest)"
   ]
  },
  {
   "cell_type": "code",
   "execution_count": 23,
   "metadata": {},
   "outputs": [
    {
     "name": "stdout",
     "output_type": "stream",
     "text": [
      "0.7411899999999347\n"
     ]
    }
   ],
   "source": [
    "h = get_h(res_161220_4)\n",
    "print(h)"
   ]
  },
  {
   "cell_type": "code",
   "execution_count": 24,
   "metadata": {},
   "outputs": [
    {
     "name": "stdout",
     "output_type": "stream",
     "text": [
      "Квантиль на уровне доверительной вероятности 0.05 =  1.618743958962201\n",
      "Квантиль на уровне доверительной вероятности 0.50 =  3.0439651236506604\n",
      "Квантиль на уровне доверительной вероятности 0.95 =  4.265583264812197\n",
      "Среднее:  3.052340221012571\n"
     ]
    },
    {
     "data": {
      "image/png": "[encoded data removed]",
      "text/plain": [
       "<Figure size 432x288 with 1 Axes>"
      ]
     },
     "metadata": {
      "needs_background": "light"
     },
     "output_type": "display_data"
    }
   ],
   "source": [
    "_, q50, _ = plot_dist_pz(res_161220_4, h)\n",
    "q50s['16-12-20'][4] = q50\n",
    "print('Среднее: ', np.mean(res_161220_4))\n",
    "plt.title('Забой № 4 от 16.12.20. Содержание асбеста 4%')\n",
    "plt.savefig('graphics/pit_4_161220.png',bbox_inches='tight', pad_inches=0)"
   ]
  },
  {
   "cell_type": "markdown",
   "metadata": {},
   "source": [
    " ## График зависимостей"
   ]
  },
  {
   "cell_type": "code",
   "execution_count": 53,
   "metadata": {},
   "outputs": [
    {
     "data": {
      "text/plain": [
       "{'02-02-21': {1: 0.01818567358003123, 2: 0.01129634877767018},\n",
       " '16-12-20': {1: 0.01521944317822717,\n",
       "  2: 0.03026978254717598,\n",
       "  3: 0.03707006982097748,\n",
       "  4: 0.031013333048282986}}"
      ]
     },
     "execution_count": 53,
     "metadata": {},
     "output_type": "execute_result"
    }
   ],
   "source": [
    "q50s"
   ]
  },
  {
   "cell_type": "code",
   "execution_count": 54,
   "metadata": {},
   "outputs": [
    {
     "name": "stdout",
     "output_type": "stream",
     "text": [
      "[1.2462118  0.00266083]\n"
     ]
    },
    {
     "data": {
      "image/png": "[encoded data removed]",
      "text/plain": [
       "<Figure size 432x288 with 1 Axes>"
      ]
     },
     "metadata": {
      "needs_background": "light"
     },
     "output_type": "display_data"
    }
   ],
   "source": [
    "content = []\n",
    "lst_50 = []\n",
    "for date in q50s.keys():\n",
    "    for pit in q50s[date].keys():\n",
    "        if date == '16-12-20' and (pit == 2 or pit == 3):\n",
    "            continue\n",
    "        lst_50.append(q50s[date][pit])\n",
    "        content.append(data[date][pit]['content'])\n",
    "\n",
    "t = [min(lst_50), max(lst_50)]\n",
    "p = np.polyfit(lst_50, content, 1)\n",
    "y = np.polyval(p, t)\n",
    "print(p)\n",
    "        \n",
    "        \n",
    "plt.scatter(lst_50, content)\n",
    "plt.plot(t, y)\n",
    "\n",
    "plt.xlabel('Медианы распределений')\n",
    "plt.ylabel('Содержание асбеста')\n",
    "plt.savefig('graphics/content_asbest.png', bbox_inches='tight', pad_inches=0)"
   ]
  },
  {
   "cell_type": "code",
   "execution_count": null,
   "metadata": {},
   "outputs": [],
   "source": []
  }
 ],
 "metadata": {
  "kernelspec": {
   "display_name": "Python 3",
   "language": "python",
   "name": "python3"
  },
  "language_info": {
   "codemirror_mode": {
    "name": "ipython",
    "version": 3
   },
   "file_extension": ".py",
   "mimetype": "text/x-python",
   "name": "python",
   "nbconvert_exporter": "python",
   "pygments_lexer": "ipython3",
   "version": "3.6.8"
  }
 },
 "nbformat": 4,
 "nbformat_minor": 4
}
